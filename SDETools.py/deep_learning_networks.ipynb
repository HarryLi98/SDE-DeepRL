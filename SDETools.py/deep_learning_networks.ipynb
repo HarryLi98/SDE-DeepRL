{
 "cells": [
  {
   "cell_type": "code",
   "execution_count": 37,
   "metadata": {},
   "outputs": [
    {
     "name": "stdout",
     "output_type": "stream",
     "text": [
      "Tensorflow version: 2.10.0\n",
      "The tensorboard extension is already loaded. To reload it, use:\n",
      "  %reload_ext tensorboard\n"
     ]
    }
   ],
   "source": [
    "import numpy as np\n",
    "import matplotlib.pyplot as plt\n",
    "import time\n",
    "import tensorflow as tf\n",
    "print(f\"Tensorflow version: {tf.__version__}\")\n",
    "from tensorboard import notebook\n",
    "from model import Model\n",
    "from sde_euler import sde_euler\n",
    "from tf_sde_euler import tf_sde_euler\n",
    "%load_ext tensorboard\n",
    "\n",
    "import os\n",
    "os.environ[\"XLA_FLAGS\"] = \"--xla_gpu_cuda_data_dir=C:/Users/Harry/miniconda3/envs/tf/Library/bin\"\n",
    "\n",
    "np.random.seed(1)"
   ]
  },
  {
   "cell_type": "code",
   "execution_count": 2,
   "metadata": {},
   "outputs": [
    {
     "name": "stdout",
     "output_type": "stream",
     "text": [
      "[[1. 0. 1. 1. 1. 1. 1. 1. 1. 0.]\n",
      " [0. 1. 1. 0. 1. 0. 1. 0. 1. 1.]\n",
      " [1. 1. 1. 0. 0. 0. 1. 1. 1. 0.]\n",
      " [1. 0. 0. 1. 0. 1. 0. 0. 1. 0.]\n",
      " [1. 1. 0. 0. 1. 1. 0. 1. 1. 1.]\n",
      " [1. 0. 0. 1. 1. 1. 0. 1. 0. 0.]\n",
      " [1. 1. 1. 0. 0. 0. 1. 0. 0. 0.]\n",
      " [1. 0. 1. 0. 1. 1. 0. 1. 0. 0.]\n",
      " [1. 1. 1. 1. 1. 0. 0. 0. 1. 0.]\n",
      " [0. 1. 0. 0. 1. 0. 0. 0. 0. 1.]]\n"
     ]
    }
   ],
   "source": [
    "dt = 1e-3\n",
    "N = 10\n",
    "alpha = 1\n",
    "sig = 1\n",
    "\n",
    "# Set up random adjacency matrix\n",
    "baseline = Model(N=10, dt=1e-3, alpha=1, sig=1)\n",
    "obj = baseline\n",
    "obj.erdosrenyi(0.5)\n",
    "obj.network()\n",
    "obj.simulate()\n",
    "\n",
    "target_mat = obj.A\n",
    "target_path = obj.x\n",
    "print(target_mat)"
   ]
  },
  {
   "cell_type": "code",
   "execution_count": 185,
   "metadata": {},
   "outputs": [],
   "source": [
    "# Training data parameters\n",
    "time_window = 5\n",
    "sample_size = 500 # to increase\n",
    "\n",
    "# Neural network architecture parameters\n",
    "num_input_nodes = 5*obj.N # time-window*N\n",
    "num_output_nodes = obj.N**2"
   ]
  },
  {
   "cell_type": "code",
   "execution_count": 186,
   "metadata": {},
   "outputs": [],
   "source": [
    "model = tf.keras.Sequential([\n",
    "    tf.keras.layers.Dense(20, activation='ReLU', input_shape=(num_input_nodes,), kernel_initializer=tf.keras.initializers.GlorotNormal),\n",
    "    tf.keras.layers.Dense(20, activation='ReLU'),\n",
    "    tf.keras.layers.Dense(20, activation='ReLU'),\n",
    "    tf.keras.layers.Dense(20, activation='ReLU'),\n",
    "    tf.keras.layers.Dense(20, activation='ReLU'),\n",
    "    tf.keras.layers.Dense(num_output_nodes, activation=tf.keras.activations.hard_sigmoid)\n",
    "])"
   ]
  },
  {
   "cell_type": "code",
   "execution_count": 187,
   "metadata": {},
   "outputs": [
    {
     "name": "stdout",
     "output_type": "stream",
     "text": [
      "Model: \"sequential_1\"\n",
      "_________________________________________________________________\n",
      " Layer (type)                Output Shape              Param #   \n",
      "=================================================================\n",
      " dense_3 (Dense)             (None, 20)                1020      \n",
      "                                                                 \n",
      " dense_4 (Dense)             (None, 20)                420       \n",
      "                                                                 \n",
      " dense_5 (Dense)             (None, 20)                420       \n",
      "                                                                 \n",
      " dense_6 (Dense)             (None, 20)                420       \n",
      "                                                                 \n",
      " dense_7 (Dense)             (None, 20)                420       \n",
      "                                                                 \n",
      " dense_8 (Dense)             (None, 100)               2100      \n",
      "                                                                 \n",
      "=================================================================\n",
      "Total params: 4,800\n",
      "Trainable params: 4,800\n",
      "Non-trainable params: 0\n",
      "_________________________________________________________________\n"
     ]
    }
   ],
   "source": [
    "model.summary()"
   ]
  },
  {
   "cell_type": "code",
   "execution_count": 188,
   "metadata": {},
   "outputs": [],
   "source": [
    "# Hyper-parameters\n",
    "lr = 2e-3\n",
    "\n",
    "# Adam optimizer\n",
    "optimizer = tf.keras.optimizers.experimental.Adam(learning_rate=lr, amsgrad=True, jit_compile=True)\n",
    "\n",
    "model.compile(\n",
    "    optimizer,\n",
    "    loss=tf.nn.l2_loss\n",
    ")"
   ]
  },
  {
   "cell_type": "code",
   "execution_count": 7,
   "metadata": {},
   "outputs": [
    {
     "data": {
      "text/plain": [
       "<tf.Tensor: shape=(10, 10), dtype=float32, numpy=\n",
       "array([[1., 0., 0., 0., 0., 0., 0., 0., 0., 0.],\n",
       "       [0., 1., 0., 0., 0., 0., 0., 0., 0., 0.],\n",
       "       [0., 0., 1., 0., 0., 0., 0., 0., 0., 0.],\n",
       "       [0., 0., 0., 1., 0., 0., 0., 0., 0., 0.],\n",
       "       [0., 0., 0., 0., 1., 0., 0., 0., 0., 0.],\n",
       "       [0., 0., 0., 0., 0., 1., 0., 0., 0., 0.],\n",
       "       [0., 0., 0., 0., 0., 0., 1., 0., 0., 0.],\n",
       "       [0., 0., 0., 0., 0., 0., 0., 1., 0., 0.],\n",
       "       [0., 0., 0., 0., 0., 0., 0., 0., 1., 0.],\n",
       "       [0., 0., 0., 0., 0., 0., 0., 0., 0., 1.]], dtype=float32)>"
      ]
     },
     "execution_count": 7,
     "metadata": {},
     "output_type": "execute_result"
    }
   ],
   "source": [
    "A = tf.eye(N, dtype=tf.float32)\n",
    "A"
   ]
  },
  {
   "cell_type": "code",
   "execution_count": 189,
   "metadata": {},
   "outputs": [],
   "source": [
    "# @tf.function\n",
    "def simulate(A):\n",
    "\n",
    "    drift = lambda x: (alpha / N) * (tf.tensordot(A, x, axes=1) - x*tf.reduce_sum(A, axis=1))\n",
    "    diffusion = lambda x: sig\n",
    "\n",
    "    # Shuffle target data and subsample to generate rolling windows\n",
    "    idx = tf.random.shuffle(tf.range(sample_size))\n",
    "    \n",
    "    target_data = []\n",
    "    for i in tf.range(sample_size):\n",
    "        target_data.append(target_path[idx[i]:idx[i]+time_window])\n",
    "    target_data = tf.stack(target_data)\n",
    "    target_data = tf.cast(target_data, dtype = tf.float32)\n",
    "    init_data = target_data[:, 0, :]\n",
    "\n",
    "    # Simulate training data from initial data\n",
    "    train_data = []\n",
    "    for i in tf.range(sample_size):\n",
    "        train_data.append(tf_sde_euler(drift, diffusion, (time_window-1)*dt, dt, init_data[i, :]))\n",
    "    train_data = tf.stack(train_data)\n",
    "\n",
    "    return train_data, target_data"
   ]
  },
  {
   "cell_type": "code",
   "execution_count": 190,
   "metadata": {},
   "outputs": [
    {
     "name": "stdout",
     "output_type": "stream",
     "text": [
      "tf.Tensor(50.347466, shape=(), dtype=float32)\n"
     ]
    },
    {
     "data": {
      "image/png": "[encoded data removed]",
      "text/plain": [
       "<Figure size 640x480 with 1 Axes>"
      ]
     },
     "metadata": {},
     "output_type": "display_data"
    }
   ],
   "source": [
    "train_data, target_data = simulate(A)\n",
    "print(tf.nn.l2_loss(train_data - target_data))\n",
    "plt.plot(train_data[1], linestyle='dashed')\n",
    "plt.plot(target_data[1])\n",
    "plt.show()"
   ]
  },
  {
   "attachments": {},
   "cell_type": "markdown",
   "metadata": {},
   "source": [
    "# Training"
   ]
  },
  {
   "cell_type": "code",
   "execution_count": 191,
   "metadata": {},
   "outputs": [],
   "source": [
    "def init_weights(train_data, target_data):\n",
    "\n",
    "    with tf.GradientTape() as tape:\n",
    "\n",
    "        train_data_flat = np.reshape(train_data, [sample_size, num_input_nodes])\n",
    "        target_data_flat = np.reshape(target_data, [sample_size, num_input_nodes])\n",
    "        A = tf.reduce_mean(model(train_data_flat, target_data_flat), axis=0)\n",
    "        A = tf.reshape(A, [N, N])\n",
    "\n",
    "        # Compute loss value\n",
    "        loss_value = tf.nn.l2_loss(A - tf.eye(N))\n",
    "\n",
    "    # Use gradient tape to retrieve gradients of trainable variables with respect to loss\n",
    "    grads = tape.gradient(loss_value, model.trainable_weights)\n",
    "\n",
    "    # Run one step of gradient descent by updating the value of the variables to minimise the loss\n",
    "    optimizer.apply_gradients(zip(grads, model.trainable_weights))\n",
    "\n",
    "    return loss_value, A"
   ]
  },
  {
   "cell_type": "code",
   "execution_count": 192,
   "metadata": {},
   "outputs": [],
   "source": [
    "# Initialise weights of neural net to output identity matrix\n",
    "loss_value = 1\n",
    "while loss_value > 1e-3:\n",
    "    loss_value, A = init_weights(train_data, target_data)"
   ]
  },
  {
   "cell_type": "code",
   "execution_count": 193,
   "metadata": {},
   "outputs": [],
   "source": [
    "#@tf.function(jit_compile=True)\n",
    "def train_step(train_data, target_data):\n",
    "\n",
    "    with tf.GradientTape() as tape:\n",
    "\n",
    "        A = tf.reduce_mean(model(train_data, target_data), axis=0)\n",
    "        A = tf.reshape(A, [N, N])\n",
    "        \n",
    "        # Forward pass of the model to get training paths\n",
    "        train_data, target_data = simulate(A)\n",
    "        train_data_flat = tf.reshape(train_data, [sample_size, num_input_nodes])\n",
    "        target_data_flat = tf.reshape(target_data, [sample_size, num_input_nodes])\n",
    "\n",
    "        # Compute l2 loss value\n",
    "        loss_value = tf.nn.l2_loss(train_data_flat - target_data_flat)\n",
    "\n",
    "    # Use gradient tape to retrieve gradients of trainable variables with respect to loss\n",
    "    grads = tape.gradient(loss_value, model.trainable_weights)\n",
    "\n",
    "    # Run one step of gradient descent by updating the value of the variables to minimise the loss\n",
    "    optimizer.apply_gradients(zip(grads, model.trainable_weights))\n",
    "\n",
    "    return loss_value, A"
   ]
  },
  {
   "cell_type": "code",
   "execution_count": null,
   "metadata": {},
   "outputs": [],
   "source": [
    "train_step(tf.reshape(train_data, [sample_size, num_input_nodes]), tf.reshape(target_data, [sample_size, num_input_nodes]))"
   ]
  },
  {
   "cell_type": "code",
   "execution_count": 194,
   "metadata": {},
   "outputs": [],
   "source": [
    "def training_algorithm(A, num_epochs):\n",
    "\n",
    "    # Initialise metrics to get mean loss per epoch and episode\n",
    "    epoch_loss_metric = tf.keras.metrics.Mean(name='epoch_loss', dtype=tf.float32)\n",
    "\n",
    "    # Benchmark training time\n",
    "    start_time = time.time()\n",
    "\n",
    "    # Inner loop to train neural net\n",
    "    for epoch in np.arange(num_epochs):\n",
    "    \n",
    "        # Initialize to store average mini-batch loss per epoch\n",
    "        epoch_loss_metric.reset_states()\n",
    "\n",
    "        # Generate synthetic training data and flatten\n",
    "        train_data, target_data = simulate(A)\n",
    "        train_data = tf.reshape(train_data, [sample_size, num_input_nodes])\n",
    "        target_data = tf.reshape(target_data, [sample_size, num_input_nodes])\n",
    "    \n",
    "        # Training step\n",
    "        loss_value, A = train_step(train_data, target_data)      \n",
    "                    \n",
    "        # Update the metrics per epoch\n",
    "        epoch_loss_metric.update_state(loss_value)\n",
    "            \n",
    "        # Get the metric results\n",
    "        epoch_mean_loss = epoch_loss_metric.result()\n",
    "\n",
    "        # Summary stats per epoch\n",
    "        tf.summary.scalar('epoch_loss', epoch_mean_loss, step=epoch)\n",
    "        if epoch % 10 == 0:\n",
    "            tf.print(f\"Epoch {epoch}: Loss: {epoch_mean_loss:.5f}\")\n",
    "\n",
    "    # Print total training time\n",
    "    print(f\"Training took {time.strftime('%H:%M:%S', time.gmtime(time.time() - start_time))}\")\n",
    "\n",
    "    return A"
   ]
  },
  {
   "cell_type": "code",
   "execution_count": 195,
   "metadata": {},
   "outputs": [
    {
     "name": "stdout",
     "output_type": "stream",
     "text": [
      "Epoch 0: Loss: 49.44914\n",
      "Epoch 10: Loss: 49.78391\n",
      "Epoch 20: Loss: 50.82729\n",
      "Epoch 30: Loss: 50.39228\n",
      "Epoch 40: Loss: 48.66446\n",
      "Epoch 50: Loss: 50.53717\n",
      "Epoch 60: Loss: 49.96931\n",
      "Epoch 70: Loss: 50.23135\n",
      "Epoch 80: Loss: 48.91621\n",
      "Epoch 90: Loss: 49.95747\n",
      "Training took 00:06:37\n"
     ]
    },
    {
     "data": {
      "text/plain": [
       "<tf.Tensor: shape=(10, 10), dtype=float32, numpy=\n",
       "array([[9.99051750e-01, 9.71454952e-04, 2.32024561e-03, 1.03284291e-03,\n",
       "        1.76883454e-03, 3.02840793e-03, 1.33699575e-03, 7.44973891e-04,\n",
       "        1.77634344e-03, 1.27322157e-03],\n",
       "       [9.93725727e-04, 9.97281373e-01, 2.09223665e-03, 1.29569718e-03,\n",
       "        6.28097972e-04, 1.01404935e-02, 2.78248306e-04, 1.48929190e-03,\n",
       "        2.55156332e-03, 5.49510820e-03],\n",
       "       [8.42051057e-04, 4.17164713e-03, 9.98521805e-01, 1.36041257e-03,\n",
       "        1.51846884e-03, 5.61391003e-04, 1.24679250e-03, 2.27192440e-03,\n",
       "        1.19452260e-03, 6.79612532e-03],\n",
       "       [5.08804154e-03, 1.76230489e-04, 7.49924686e-03, 9.96611595e-01,\n",
       "        2.35925009e-03, 2.13906798e-03, 4.22996411e-04, 2.07642047e-03,\n",
       "        1.52997824e-03, 7.69734103e-03],\n",
       "       [4.36851615e-03, 2.42443429e-03, 3.51147796e-03, 1.12635631e-03,\n",
       "        9.99176621e-01, 2.29121069e-03, 4.26400872e-03, 8.95890221e-03,\n",
       "        1.10854267e-03, 7.10962864e-04],\n",
       "       [1.40009390e-03, 4.89040697e-03, 3.61366617e-03, 7.40341283e-03,\n",
       "        2.96173571e-03, 9.98312712e-01, 1.21227454e-03, 4.53139888e-03,\n",
       "        8.76322330e-04, 1.93156465e-03],\n",
       "       [7.25762080e-03, 1.77777023e-03, 3.19841388e-03, 5.46381250e-03,\n",
       "        7.72284926e-04, 3.69220623e-03, 9.98789072e-01, 9.85681312e-04,\n",
       "        2.01674853e-03, 1.78187015e-03],\n",
       "       [1.94678304e-03, 1.90870243e-03, 1.43990584e-03, 1.69278507e-03,\n",
       "        3.63100879e-03, 2.18519010e-03, 5.95634477e-03, 9.98481154e-01,\n",
       "        8.00908310e-04, 1.22755626e-03],\n",
       "       [1.46558101e-03, 2.59959931e-03, 1.13954232e-03, 1.49065803e-03,\n",
       "        8.76548234e-04, 4.28180303e-03, 2.91135558e-03, 6.11291127e-03,\n",
       "        9.98664081e-01, 1.76707248e-03],\n",
       "       [9.69500514e-04, 4.59855917e-04, 2.76754238e-03, 6.34551980e-03,\n",
       "        7.12763169e-04, 5.30392770e-03, 6.56798249e-03, 3.17685073e-03,\n",
       "        1.70643954e-03, 9.98076200e-01]], dtype=float32)>"
      ]
     },
     "execution_count": 195,
     "metadata": {},
     "output_type": "execute_result"
    }
   ],
   "source": [
    "training_algorithm(A, 100)"
   ]
  },
  {
   "cell_type": "code",
   "execution_count": 201,
   "metadata": {},
   "outputs": [
    {
     "data": {
      "text/plain": [
       "<tf.Tensor: shape=(), dtype=float32, numpy=21.86715>"
      ]
     },
     "execution_count": 201,
     "metadata": {},
     "output_type": "execute_result"
    }
   ],
   "source": [
    "# Deviation of predicted adjacency matrix against actual\n",
    "tf.nn.l2_loss(A - obj.A)"
   ]
  }
 ],
 "metadata": {
  "kernelspec": {
   "display_name": "Python 3",
   "language": "python",
   "name": "python3"
  },
  "language_info": {
   "codemirror_mode": {
    "name": "ipython",
    "version": 3
   },
   "file_extension": ".py",
   "mimetype": "text/x-python",
   "name": "python",
   "nbconvert_exporter": "python",
   "pygments_lexer": "ipython3",
   "version": "3.10.4"
  },
  "orig_nbformat": 4
 },
 "nbformat": 4,
 "nbformat_minor": 2
}
